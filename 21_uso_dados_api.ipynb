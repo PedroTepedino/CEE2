{
  "cells": [
    {
      "cell_type": "markdown",
      "metadata": {
        "colab_type": "text",
        "id": "view-in-github"
      },
      "source": [
        "<a href=\"https://colab.research.google.com/github/jafiorucci/CEE2PY125/blob/main/21_uso_dados_api.ipynb\" target=\"_parent\"><img src=\"https://colab.research.google.com/assets/colab-badge.svg\" alt=\"Open In Colab\"/></a>"
      ]
    },
    {
      "cell_type": "markdown",
      "metadata": {
        "id": "wU2538PMLpDp"
      },
      "source": [
        "---\n",
        "# Uso de dados de APIs\n",
        "\n",
        "API é a sigla para *Application Programming Interface* (em português, Interface de Programação de Aplicações).\n",
        "Trata-se de um conjunto de definições e protocolos que permitem que diferentes sistemas ou softwares se comuniquem entre si, de forma padronizada, sem que um precise conhecer os detalhes internos do outro.\n",
        "\n",
        "## Bibliotecas\n",
        "\n",
        "O acesso a dados de API's pode ser feito utilizando a biblioteca `requests`, que deve ser instalada, caso ainda não esteja:\n",
        "```python\n",
        "pip install requests\n",
        "```\n",
        "\n",
        "\n",
        "\n",
        "\n",
        "\n"
      ]
    },
    {
      "cell_type": "markdown",
      "metadata": {
        "id": "e2dOYaJYbGjt"
      },
      "source": [
        "\n",
        "## Formato de dados\n",
        "\n",
        "A maior parte das API's modernas fornecem dados em formato JSON, sendo que no passado o formato mais utilizado era o XML (*Extensible Markup Language*), sendo este segundo um sistema mais pesado que o JSON.\n",
        "\n",
        "Algumas API's também podem fornecer dados em formato CSV (*Comma-Separated Values*), especialmente para dados tabulares.\n",
        "\n",
        "\n",
        "### JSON\n",
        "\n",
        "O formato JSON (*JavaScript Object Notation*) é uma estrutura de dados leve e baseada em texto, usada para a troca de informações entre sistemas. Ele organiza os dados em pares de chave-valor que são agrupados em objetos ({}) ou arrays ([]). As chaves devem ser strings delimitadas por aspas duplas, enquanto os valores podem ser números, strings, booleanos, arrays, objetos ou `null`. Os arrays são listas ordenadas de valores, enquanto os objetos são coleções de pares de chave-valor não ordenadas.\n",
        "\n",
        "***Exemplo***\n",
        "\n",
        "No exemplo abaixo, o objeto principal contém um campo `\"dados\"`, que é uma lista de objetos.\n",
        "\n",
        "Cada objeto dentro da lista representa um município com os seguintes atributos:\n",
        "- \"municipio\": Nome do município.\n",
        "- \"estado\": Sigla do estado ao qual o município pertence.\n",
        "- \"populacao\": População total do município.\n",
        "- \"area_km2\": Área territorial em quilômetros quadrados.\n",
        "- \"indicadores\": Um objeto contendo:\n",
        "  - \"idh\": Índice de Desenvolvimento Humano (IDH).\n",
        "  - \"renda_per_capita\": Renda per capita média.\n",
        "  - \"taxa_alfabetizacao\": Taxa de alfabetização em percentual.\n",
        "\n",
        "```python\n",
        "{\n",
        "  \"dados\": [\n",
        "    {\n",
        "      \"municipio\": \"São Paulo\",\n",
        "      \"estado\": \"SP\",\n",
        "      \"populacao\": 12396372,\n",
        "      \"area_km2\": 1521.11,\n",
        "      \"indicadores\": {\n",
        "        \"idh\": 0.805,\n",
        "        \"renda_per_capita\": 3872.0,\n",
        "        \"taxa_alfabetizacao\": 97.5\n",
        "      }\n",
        "    },\n",
        "    {\n",
        "      \"municipio\": \"Rio de Janeiro\",\n",
        "      \"estado\": \"RJ\",\n",
        "      \"populacao\": 6775561,\n",
        "      \"area_km2\": 1182.30,\n",
        "      \"indicadores\": {\n",
        "        \"idh\": 0.799,\n",
        "        \"renda_per_capita\": 3221.5,\n",
        "        \"taxa_alfabetizacao\": 96.2\n",
        "      }\n",
        "    },\n",
        "    {\n",
        "      \"municipio\": \"Belo Horizonte\",\n",
        "      \"estado\": \"MG\",\n",
        "      \"populacao\": 2530701,\n",
        "      \"area_km2\": 330.954,\n",
        "      \"indicadores\": {\n",
        "        \"idh\": 0.810,\n",
        "        \"renda_per_capita\": 2765.9,\n",
        "        \"taxa_alfabetizacao\": 97.8\n",
        "      }\n",
        "    }\n",
        "  ]\n",
        "}\n",
        "```\n",
        "\n",
        "### Como Funciona\n",
        "\n",
        "Quando você faz uma requisição HTTP com `requests.get()`, o conteúdo da resposta geralmente está no formato de texto bruto.\n",
        "\n",
        "O método `.json()` interpreta esse texto como JSON e o converte automaticamente em objetos nativos do Python.\n",
        "- Objetos JSON se tornam dicionários em Python.\n",
        "- Arrays JSON se tornam listas em Python.\n",
        "- Valores JSON como números, strings, booleans e null são convertidos em seus equivalentes no Python.\n",
        "\n",
        "> Dica: A biblioteca `pprint` possui a função `pprint` que permite apresenta o resultado dessa conversão de um modo organizado."
      ]
    },
    {
      "cell_type": "markdown",
      "metadata": {
        "id": "zJ3T-H-EdJRm"
      },
      "source": [
        "---\n",
        "## API do IBGE\n",
        "\n",
        "A API do IBGE fornece dados sobre populações, territórios, economia, e muito mais.\n",
        "\n",
        "A documentação da API do IBGE está disponível em: https://servicodados.ibge.gov.br/api/docs. Nesta página, podemos obter os endereços URL's para fazer requisições de dados do IBGE utilizando o Python.\n",
        "\n",
        "> ***QUERY BUILDER:*** Dentro da página, escolha uma das divisões da API disponíveis, então você pode utilizar o menu `QUERY BUILDER` para personalizar o link conforme seu interesse.\n",
        "\n",
        "\n",
        "> Exemplo: Vamos usar a API para acessar dados de municípios brasileiros.\n"
      ]
    },
    {
      "cell_type": "markdown",
      "metadata": {
        "id": "yhhpsRureChw"
      },
      "source": [
        "***Exemplo 1:*** Listar munícios por UF\n",
        "\n",
        "Aqui está um exemplo de como obter uma lista de municípios de um estado específico.\n",
        "\n",
        "Para obter a URL para a requisição acessamos na página:\n",
        ">  \"Localidades\" -> Campo MUNICIPIOS, menu \"Municípios por UF\".\n",
        "\n",
        "> Os códigos de estados e municípios estão disponíveis em https://www.ibge.gov.br/explica/codigos-dos-municipios.php."
      ]
    },
    {
      "cell_type": "code",
      "execution_count": 10,
      "metadata": {
        "id": "JZESzpAUdkIl"
      },
      "outputs": [
        {
          "name": "stdout",
          "output_type": "stream",
          "text": [
            "type(response): <class 'requests.models.Response'>\n"
          ]
        }
      ],
      "source": [
        "import requests\n",
        "\n",
        "# URL para obter municípios de um estado\n",
        "estado = 35  # Código do estado (São Paulo = 35)\n",
        "url = f\"https://servicodados.ibge.gov.br/api/v1/localidades/estados/{estado}/municipios\"\n",
        "\n",
        "# Fazendo a requisição\n",
        "response = requests.get(url)\n",
        "\n",
        "print( \"type(response):\", type(response) )"
      ]
    },
    {
      "cell_type": "code",
      "execution_count": 11,
      "metadata": {
        "id": "9mn7b9ZaA-4d"
      },
      "outputs": [
        {
          "name": "stdout",
          "output_type": "stream",
          "text": [
            "\n",
            "\n",
            "Tipo de dados: <class 'list'>\n",
            "\n",
            "\n",
            "Primeiros 3 elementos: <class 'list'>\n",
            "[{'id': 3500105, 'nome': 'Adamantina', 'microrregiao': {'id': 35035, 'nome': 'Adamantina', 'mesorregiao': {'id': 3508, 'nome': 'Presidente Prudente', 'UF': {'id': 35, 'sigla': 'SP', 'nome': 'São Paulo', 'regiao': {'id': 3, 'sigla': 'SE', 'nome': 'Sudeste'}}}}, 'regiao-imediata': {'id': 350019, 'nome': 'Adamantina - Lucélia', 'regiao-intermediaria': {'id': 3505, 'nome': 'Presidente Prudente', 'UF': {'id': 35, 'sigla': 'SP', 'nome': 'São Paulo', 'regiao': {'id': 3, 'sigla': 'SE', 'nome': 'Sudeste'}}}}}, {'id': 3500204, 'nome': 'Adolfo', 'microrregiao': {'id': 35004, 'nome': 'São José do Rio Preto', 'mesorregiao': {'id': 3501, 'nome': 'São José do Rio Preto', 'UF': {'id': 35, 'sigla': 'SP', 'nome': 'São Paulo', 'regiao': {'id': 3, 'sigla': 'SE', 'nome': 'Sudeste'}}}}, 'regiao-imediata': {'id': 350025, 'nome': 'São José do Rio Preto', 'regiao-intermediaria': {'id': 3507, 'nome': 'São José do Rio Preto', 'UF': {'id': 35, 'sigla': 'SP', 'nome': 'São Paulo', 'regiao': {'id': 3, 'sigla': 'SE', 'nome': 'Sudeste'}}}}}, {'id': 3500303, 'nome': 'Aguaí', 'microrregiao': {'id': 35029, 'nome': 'Pirassununga', 'mesorregiao': {'id': 3507, 'nome': 'Campinas', 'UF': {'id': 35, 'sigla': 'SP', 'nome': 'São Paulo', 'regiao': {'id': 3, 'sigla': 'SE', 'nome': 'Sudeste'}}}}, 'regiao-imediata': {'id': 350044, 'nome': 'São João da Boa Vista', 'regiao-intermediaria': {'id': 3510, 'nome': 'Campinas', 'UF': {'id': 35, 'sigla': 'SP', 'nome': 'São Paulo', 'regiao': {'id': 3, 'sigla': 'SE', 'nome': 'Sudeste'}}}}}]\n",
            "\n",
            "\n",
            "Primeiros 3 elementos (pprint):\n",
            "[{'id': 3500105,\n",
            "  'microrregiao': {'id': 35035,\n",
            "                   'mesorregiao': {'UF': {'id': 35,\n",
            "                                          'nome': 'São Paulo',\n",
            "                                          'regiao': {'id': 3,\n",
            "                                                     'nome': 'Sudeste',\n",
            "                                                     'sigla': 'SE'},\n",
            "                                          'sigla': 'SP'},\n",
            "                                   'id': 3508,\n",
            "                                   'nome': 'Presidente Prudente'},\n",
            "                   'nome': 'Adamantina'},\n",
            "  'nome': 'Adamantina',\n",
            "  'regiao-imediata': {'id': 350019,\n",
            "                      'nome': 'Adamantina - Lucélia',\n",
            "                      'regiao-intermediaria': {'UF': {'id': 35,\n",
            "                                                      'nome': 'São Paulo',\n",
            "                                                      'regiao': {'id': 3,\n",
            "                                                                 'nome': 'Sudeste',\n",
            "                                                                 'sigla': 'SE'},\n",
            "                                                      'sigla': 'SP'},\n",
            "                                               'id': 3505,\n",
            "                                               'nome': 'Presidente Prudente'}}},\n",
            " {'id': 3500204,\n",
            "  'microrregiao': {'id': 35004,\n",
            "                   'mesorregiao': {'UF': {'id': 35,\n",
            "                                          'nome': 'São Paulo',\n",
            "                                          'regiao': {'id': 3,\n",
            "                                                     'nome': 'Sudeste',\n",
            "                                                     'sigla': 'SE'},\n",
            "                                          'sigla': 'SP'},\n",
            "                                   'id': 3501,\n",
            "                                   'nome': 'São José do Rio Preto'},\n",
            "                   'nome': 'São José do Rio Preto'},\n",
            "  'nome': 'Adolfo',\n",
            "  'regiao-imediata': {'id': 350025,\n",
            "                      'nome': 'São José do Rio Preto',\n",
            "                      'regiao-intermediaria': {'UF': {'id': 35,\n",
            "                                                      'nome': 'São Paulo',\n",
            "                                                      'regiao': {'id': 3,\n",
            "                                                                 'nome': 'Sudeste',\n",
            "                                                                 'sigla': 'SE'},\n",
            "                                                      'sigla': 'SP'},\n",
            "                                               'id': 3507,\n",
            "                                               'nome': 'São José do Rio '\n",
            "                                                       'Preto'}}},\n",
            " {'id': 3500303,\n",
            "  'microrregiao': {'id': 35029,\n",
            "                   'mesorregiao': {'UF': {'id': 35,\n",
            "                                          'nome': 'São Paulo',\n",
            "                                          'regiao': {'id': 3,\n",
            "                                                     'nome': 'Sudeste',\n",
            "                                                     'sigla': 'SE'},\n",
            "                                          'sigla': 'SP'},\n",
            "                                   'id': 3507,\n",
            "                                   'nome': 'Campinas'},\n",
            "                   'nome': 'Pirassununga'},\n",
            "  'nome': 'Aguaí',\n",
            "  'regiao-imediata': {'id': 350044,\n",
            "                      'nome': 'São João da Boa Vista',\n",
            "                      'regiao-intermediaria': {'UF': {'id': 35,\n",
            "                                                      'nome': 'São Paulo',\n",
            "                                                      'regiao': {'id': 3,\n",
            "                                                                 'nome': 'Sudeste',\n",
            "                                                                 'sigla': 'SE'},\n",
            "                                                      'sigla': 'SP'},\n",
            "                                               'id': 3510,\n",
            "                                               'nome': 'Campinas'}}}]\n",
            "\n",
            "\n",
            "Acessando atributos de cada elemento:\n",
            "\n",
            " Total de municípios: 645\n",
            "\n",
            " Nome dos 5 primeiros municípios:\n",
            "   Adamantina\n",
            "   Adolfo\n",
            "   Aguaí\n",
            "   Águas da Prata\n",
            "   Águas de Lindóia\n"
          ]
        }
      ],
      "source": [
        "# Checando o status da requisição e interpretando o JSON\n",
        "if response.status_code == 200:\n",
        "\n",
        "    municipios = response.json() ## interpretando a saída como JSON\n",
        "\n",
        "    print( \"\\n\\nTipo de dados:\", type(municipios) )\n",
        "\n",
        "    print( \"\\n\\nPrimeiros 3 elementos:\", type(municipios) )\n",
        "    print( municipios[:3] )\n",
        "\n",
        "    print( \"\\n\\nPrimeiros 3 elementos (pprint):\")\n",
        "    import pprint\n",
        "    pprint.pprint(municipios[:3])\n",
        "\n",
        "    print( \"\\n\\nAcessando atributos de cada elemento:\" )\n",
        "\n",
        "    print(f\"\\n Total de municípios: {len(municipios)}\")\n",
        "\n",
        "    print(\"\\n Nome dos 5 primeiros municípios:\")\n",
        "\n",
        "    for municipio in municipios[:5]:  # Mostra os primeiros 5 municípios\n",
        "        print(\"  \", municipio['nome'])\n",
        "else:\n",
        "    print(\"Erro ao acessar a API do IBGE\")\n"
      ]
    },
    {
      "cell_type": "code",
      "execution_count": 12,
      "metadata": {
        "id": "4m9dxaNMa1tH"
      },
      "outputs": [
        {
          "data": {
            "text/html": [
              "<div>\n",
              "<style scoped>\n",
              "    .dataframe tbody tr th:only-of-type {\n",
              "        vertical-align: middle;\n",
              "    }\n",
              "\n",
              "    .dataframe tbody tr th {\n",
              "        vertical-align: top;\n",
              "    }\n",
              "\n",
              "    .dataframe thead th {\n",
              "        text-align: right;\n",
              "    }\n",
              "</style>\n",
              "<table border=\"1\" class=\"dataframe\">\n",
              "  <thead>\n",
              "    <tr style=\"text-align: right;\">\n",
              "      <th></th>\n",
              "      <th>id</th>\n",
              "      <th>nome</th>\n",
              "      <th>microrregiao</th>\n",
              "      <th>regiao-imediata</th>\n",
              "    </tr>\n",
              "  </thead>\n",
              "  <tbody>\n",
              "    <tr>\n",
              "      <th>0</th>\n",
              "      <td>3500105</td>\n",
              "      <td>Adamantina</td>\n",
              "      <td>{'id': 35035, 'nome': 'Adamantina', 'mesorregi...</td>\n",
              "      <td>{'id': 350019, 'nome': 'Adamantina - Lucélia',...</td>\n",
              "    </tr>\n",
              "    <tr>\n",
              "      <th>1</th>\n",
              "      <td>3500204</td>\n",
              "      <td>Adolfo</td>\n",
              "      <td>{'id': 35004, 'nome': 'São José do Rio Preto',...</td>\n",
              "      <td>{'id': 350025, 'nome': 'São José do Rio Preto'...</td>\n",
              "    </tr>\n",
              "    <tr>\n",
              "      <th>2</th>\n",
              "      <td>3500303</td>\n",
              "      <td>Aguaí</td>\n",
              "      <td>{'id': 35029, 'nome': 'Pirassununga', 'mesorre...</td>\n",
              "      <td>{'id': 350044, 'nome': 'São João da Boa Vista'...</td>\n",
              "    </tr>\n",
              "    <tr>\n",
              "      <th>3</th>\n",
              "      <td>3500402</td>\n",
              "      <td>Águas da Prata</td>\n",
              "      <td>{'id': 35030, 'nome': 'São João da Boa Vista',...</td>\n",
              "      <td>{'id': 350044, 'nome': 'São João da Boa Vista'...</td>\n",
              "    </tr>\n",
              "    <tr>\n",
              "      <th>4</th>\n",
              "      <td>3500501</td>\n",
              "      <td>Águas de Lindóia</td>\n",
              "      <td>{'id': 35033, 'nome': 'Amparo', 'mesorregiao':...</td>\n",
              "      <td>{'id': 350048, 'nome': 'Amparo', 'regiao-inter...</td>\n",
              "    </tr>\n",
              "    <tr>\n",
              "      <th>...</th>\n",
              "      <td>...</td>\n",
              "      <td>...</td>\n",
              "      <td>...</td>\n",
              "      <td>...</td>\n",
              "    </tr>\n",
              "    <tr>\n",
              "      <th>640</th>\n",
              "      <td>3557006</td>\n",
              "      <td>Votorantim</td>\n",
              "      <td>{'id': 35046, 'nome': 'Sorocaba', 'mesorregiao...</td>\n",
              "      <td>{'id': 350003, 'nome': 'Sorocaba', 'regiao-int...</td>\n",
              "    </tr>\n",
              "    <tr>\n",
              "      <th>641</th>\n",
              "      <td>3557105</td>\n",
              "      <td>Votuporanga</td>\n",
              "      <td>{'id': 35003, 'nome': 'Votuporanga', 'mesorreg...</td>\n",
              "      <td>{'id': 350027, 'nome': 'Votuporanga', 'regiao-...</td>\n",
              "    </tr>\n",
              "    <tr>\n",
              "      <th>642</th>\n",
              "      <td>3557154</td>\n",
              "      <td>Zacarias</td>\n",
              "      <td>{'id': 35004, 'nome': 'São José do Rio Preto',...</td>\n",
              "      <td>{'id': 350023, 'nome': 'Birigui - Penápolis', ...</td>\n",
              "    </tr>\n",
              "    <tr>\n",
              "      <th>643</th>\n",
              "      <td>3557204</td>\n",
              "      <td>Chavantes</td>\n",
              "      <td>{'id': 35040, 'nome': 'Ourinhos', 'mesorregiao...</td>\n",
              "      <td>{'id': 350015, 'nome': 'Ourinhos', 'regiao-int...</td>\n",
              "    </tr>\n",
              "    <tr>\n",
              "      <th>644</th>\n",
              "      <td>3557303</td>\n",
              "      <td>Estiva Gerbi</td>\n",
              "      <td>{'id': 35031, 'nome': 'Mogi Mirim', 'mesorregi...</td>\n",
              "      <td>{'id': 350043, 'nome': 'Mogi Guaçu', 'regiao-i...</td>\n",
              "    </tr>\n",
              "  </tbody>\n",
              "</table>\n",
              "<p>645 rows × 4 columns</p>\n",
              "</div>"
            ],
            "text/plain": [
              "          id              nome  \\\n",
              "0    3500105        Adamantina   \n",
              "1    3500204            Adolfo   \n",
              "2    3500303             Aguaí   \n",
              "3    3500402    Águas da Prata   \n",
              "4    3500501  Águas de Lindóia   \n",
              "..       ...               ...   \n",
              "640  3557006        Votorantim   \n",
              "641  3557105       Votuporanga   \n",
              "642  3557154          Zacarias   \n",
              "643  3557204         Chavantes   \n",
              "644  3557303      Estiva Gerbi   \n",
              "\n",
              "                                          microrregiao  \\\n",
              "0    {'id': 35035, 'nome': 'Adamantina', 'mesorregi...   \n",
              "1    {'id': 35004, 'nome': 'São José do Rio Preto',...   \n",
              "2    {'id': 35029, 'nome': 'Pirassununga', 'mesorre...   \n",
              "3    {'id': 35030, 'nome': 'São João da Boa Vista',...   \n",
              "4    {'id': 35033, 'nome': 'Amparo', 'mesorregiao':...   \n",
              "..                                                 ...   \n",
              "640  {'id': 35046, 'nome': 'Sorocaba', 'mesorregiao...   \n",
              "641  {'id': 35003, 'nome': 'Votuporanga', 'mesorreg...   \n",
              "642  {'id': 35004, 'nome': 'São José do Rio Preto',...   \n",
              "643  {'id': 35040, 'nome': 'Ourinhos', 'mesorregiao...   \n",
              "644  {'id': 35031, 'nome': 'Mogi Mirim', 'mesorregi...   \n",
              "\n",
              "                                       regiao-imediata  \n",
              "0    {'id': 350019, 'nome': 'Adamantina - Lucélia',...  \n",
              "1    {'id': 350025, 'nome': 'São José do Rio Preto'...  \n",
              "2    {'id': 350044, 'nome': 'São João da Boa Vista'...  \n",
              "3    {'id': 350044, 'nome': 'São João da Boa Vista'...  \n",
              "4    {'id': 350048, 'nome': 'Amparo', 'regiao-inter...  \n",
              "..                                                 ...  \n",
              "640  {'id': 350003, 'nome': 'Sorocaba', 'regiao-int...  \n",
              "641  {'id': 350027, 'nome': 'Votuporanga', 'regiao-...  \n",
              "642  {'id': 350023, 'nome': 'Birigui - Penápolis', ...  \n",
              "643  {'id': 350015, 'nome': 'Ourinhos', 'regiao-int...  \n",
              "644  {'id': 350043, 'nome': 'Mogi Guaçu', 'regiao-i...  \n",
              "\n",
              "[645 rows x 4 columns]"
            ]
          },
          "metadata": {},
          "output_type": "display_data"
        }
      ],
      "source": [
        "# A biblioteca pandas pode ser utilizada para tabelar como um dataframe\n",
        "##  Em Jupyter e Colab pode-se utilizar o comando display para ter uma apresentação\n",
        "##  mais organizada que a função print\n",
        "import pandas as pd\n",
        "\n",
        "df = pd.DataFrame(municipios)\n",
        "\n",
        "display(df)"
      ]
    },
    {
      "cell_type": "markdown",
      "metadata": {
        "id": "dKqpKZSNJoKF"
      },
      "source": [
        "***Exemplo 2:*** Estimativa Populacional\n",
        "\n",
        "O link abaixo foi construído utilizando a divisão \"AGREGADOS\" e o seguinte sequência para o \"Query Builder\":\n",
        "\n",
        "1. Pesquisa: Estimativas de População\n",
        "2. Períodos: Selecionar todos\n",
        "3. Nível geográfico: N1 - Brasil\n",
        "\n",
        "https://servicodados.ibge.gov.br/api/v3/agregados/6579/periodos/2001|2002|2003|2004|2005|2006|2008|2009|2011|2012|2013|2014|2015|2016|2017|2018|2019|2020|2021|2024/variaveis/9324?localidades=N1[all]\n"
      ]
    },
    {
      "cell_type": "code",
      "execution_count": 15,
      "metadata": {
        "id": "qzQRvZkrK89S"
      },
      "outputs": [
        {
          "name": "stdout",
          "output_type": "stream",
          "text": [
            "type(response): <class 'requests.models.Response'>\n",
            "\n",
            "\n",
            "Tipo de dados: <class 'list'>\n",
            "[{'id': '9324',\n",
            "  'resultados': [{'classificacoes': [],\n",
            "                  'series': [{'localidade': {'id': '1',\n",
            "                                             'nivel': {'id': 'N1',\n",
            "                                                       'nome': 'Brasil'},\n",
            "                                             'nome': 'Brasil'},\n",
            "                              'serie': {'2001': '172385826',\n",
            "                                        '2002': '174632960',\n",
            "                                        '2003': '176871437',\n",
            "                                        '2004': '181569056',\n",
            "                                        '2005': '184184264',\n",
            "                                        '2006': '186770562',\n",
            "                                        '2008': '189605006',\n",
            "                                        '2009': '191480630',\n",
            "                                        '2011': '192379287',\n",
            "                                        '2012': '193904015',\n",
            "                                        '2013': '201032714',\n",
            "                                        '2014': '202768562',\n",
            "                                        '2015': '204450049',\n",
            "                                        '2016': '206081432',\n",
            "                                        '2017': '207660929',\n",
            "                                        '2018': '208494900',\n",
            "                                        '2019': '210147125',\n",
            "                                        '2020': '211755692',\n",
            "                                        '2021': '213317639',\n",
            "                                        '2024': '212583750'}}]}],\n",
            "  'unidade': 'Pessoas',\n",
            "  'variavel': 'População residente estimada'}]\n"
          ]
        }
      ],
      "source": [
        "import requests\n",
        "\n",
        "url = \"https://servicodados.ibge.gov.br/api/v3/agregados/6579/periodos/2001|2002|2003|2004|2005|2006|2008|2009|2011|2012|2013|2014|2015|2016|2017|2018|2019|2020|2021|2024/variaveis/9324?localidades=N1[all]\"\n",
        "\n",
        "# Fazendo a requisição\n",
        "response = requests.get(url)\n",
        "\n",
        "print( \"type(response):\", type(response) )\n",
        "\n",
        "if response.status_code == 200:\n",
        "  dados = response.json() ## interpretando a saída como JSON\n",
        "\n",
        "  print( \"\\n\\nTipo de dados:\", type(dados) )\n",
        "\n",
        "  ## Exibe uma descrição organizada da estrutura dos dados\n",
        "  import pprint\n",
        "  pprint.pprint(dados)\n",
        "\n",
        "else:\n",
        "  print(\"Erro ao acessar a API do IBGE\")\n"
      ]
    },
    {
      "cell_type": "code",
      "execution_count": 16,
      "metadata": {
        "id": "E2Zgr4HTV3my"
      },
      "outputs": [
        {
          "name": "stdout",
          "output_type": "stream",
          "text": [
            "{'2001': '172385826',\n",
            " '2002': '174632960',\n",
            " '2003': '176871437',\n",
            " '2004': '181569056',\n",
            " '2005': '184184264',\n",
            " '2006': '186770562',\n",
            " '2008': '189605006',\n",
            " '2009': '191480630',\n",
            " '2011': '192379287',\n",
            " '2012': '193904015',\n",
            " '2013': '201032714',\n",
            " '2014': '202768562',\n",
            " '2015': '204450049',\n",
            " '2016': '206081432',\n",
            " '2017': '207660929',\n",
            " '2018': '208494900',\n",
            " '2019': '210147125',\n",
            " '2020': '211755692',\n",
            " '2021': '213317639',\n",
            " '2024': '212583750'}\n"
          ]
        }
      ],
      "source": [
        "# Extraindo a série temporal\n",
        "### Nessa etapa voce pode ir printando a estrutura e selecionando o elemento de interesse\n",
        "\n",
        "pprint.pprint(dados[0]['resultados'][0]['series'][0]['serie'])\n",
        "\n",
        "serie = dados[0]['resultados'][0]['series'][0]['serie']"
      ]
    },
    {
      "cell_type": "code",
      "execution_count": 17,
      "metadata": {
        "id": "iWZJl7zfLJQh"
      },
      "outputs": [
        {
          "data": {
            "image/png": "[encoded data removed]",
            "text/plain": [
              "<Figure size 500x400 with 1 Axes>"
            ]
          },
          "metadata": {},
          "output_type": "display_data"
        }
      ],
      "source": [
        "import matplotlib.pyplot as plt\n",
        "import pandas as pd\n",
        "\n",
        "# Convertendo para um DataFrame do pandas\n",
        "df = pd.DataFrame(list(serie.items()), columns=['Year', 'Value'])\n",
        "df['Year'] = pd.to_datetime(df['Year'], format='%Y')  # Convertendo anos para datetime\n",
        "df['Value'] = pd.to_numeric(df['Value'])  # Convertendo valores para numérico\n",
        "\n",
        "# Criando o gráfico\n",
        "plt.figure(figsize=(5, 4))\n",
        "plt.plot(df['Year'], df['Value'], marker='o', linestyle='-', color='b', label='Estimativa Populacional')\n",
        "plt.title('Estimativa Populacional')\n",
        "plt.xlabel('Ano')\n",
        "plt.ylabel('Valor')\n",
        "plt.grid(True, linestyle='--', alpha=0.7)\n",
        "#plt.legend()\n",
        "plt.tight_layout()\n",
        "plt.show()"
      ]
    },
    {
      "cell_type": "markdown",
      "metadata": {
        "id": "n6kJg5-GE-BH"
      },
      "source": [
        "### Exercício 1\n",
        "\n",
        "Crie um código que baixe e apresente informações de \"Localidade\" do Distrito Federal utilizando a API do IBGE.\n"
      ]
    },
    {
      "cell_type": "code",
      "execution_count": 29,
      "metadata": {},
      "outputs": [
        {
          "name": "stdout",
          "output_type": "stream",
          "text": [
            "[{'id': 5300108,\n",
            "  'microrregiao': {'id': 53001,\n",
            "                   'mesorregiao': {'UF': {'id': 53,\n",
            "                                          'nome': 'Distrito Federal',\n",
            "                                          'regiao': {'id': 5,\n",
            "                                                     'nome': 'Centro-Oeste',\n",
            "                                                     'sigla': 'CO'},\n",
            "                                          'sigla': 'DF'},\n",
            "                                   'id': 5301,\n",
            "                                   'nome': 'Distrito Federal'},\n",
            "                   'nome': 'Brasília'},\n",
            "  'nome': 'Brasília',\n",
            "  'regiao-imediata': {'id': 530001,\n",
            "                      'nome': 'Distrito Federal',\n",
            "                      'regiao-intermediaria': {'UF': {'id': 53,\n",
            "                                                      'nome': 'Distrito '\n",
            "                                                              'Federal',\n",
            "                                                      'regiao': {'id': 5,\n",
            "                                                                 'nome': 'Centro-Oeste',\n",
            "                                                                 'sigla': 'CO'},\n",
            "                                                      'sigla': 'DF'},\n",
            "                                               'id': 5301,\n",
            "                                               'nome': 'Distrito Federal'}}}]\n"
          ]
        }
      ],
      "source": [
        "import requests\n",
        "import pandas as pd\n",
        "\n",
        "estado = 53\n",
        "url = f\"https://servicodados.ibge.gov.br/api/v1/localidades/estados/{estado}/municipios\"\n",
        "\n",
        "response = requests.get(url)\n",
        "\n",
        "if response.status_code == 200:\n",
        "    municipios = response.json()\n",
        "     \n",
        "    import pprint\n",
        "    pprint.pprint(municipios)\n",
        "else:\n",
        "    print(\"Erro ao acessar a API do IBGE\")"
      ]
    },
    {
      "cell_type": "markdown",
      "metadata": {
        "id": "4dx8NMfmXNtD"
      },
      "source": [
        "---\n",
        "## API do Banco Central\n",
        "\n",
        "O Banco Central do Brasil fornece uma API chamada \"Serviço de Dados Abertos\" para acessar informações financeiras, como taxas de câmbio e boletins econômicos.\n",
        "\n",
        "A documentação da API do Banco Central está disponível em:\n",
        "https://dadosabertos.bcb.gov.br"
      ]
    },
    {
      "cell_type": "markdown",
      "metadata": {
        "id": "rrd6Tl1tYWML"
      },
      "source": [
        "***Exemplo 1:*** Cotação do dólar\n",
        "\n",
        "\n",
        "Para obter o histórico da cotação do dólar, vamos executar os seguintes passos:\n",
        "\n",
        "1. Pesquisar \"Cotação do dólar\" na página da documentação https://dadosabertos.bcb.gov.br\n",
        "\n",
        "2. Clique em `Dólar comercial (venda e compra) - cotações diárias`.\n",
        "\n",
        "3. No canto superior direito, clique em `Ponto de Acesso à API`.\n",
        "\n",
        "4. No tópico `Cotação do Dólar por período` clique em `Explorar`.\n",
        "\n",
        "5. Preencha as informações sobre o intervalo de datas no formulário, utilize o forma MM-DD-AAAA.\n",
        "\n",
        "  * Como exemplo foi preenchido, `Data inicial = 01-01-2025` e `Data final = 01-20-2024`.\n",
        "\n",
        "5. Copie a URL que foi gerada.\n",
        "\n",
        "  * No exemplo, temos:\n",
        "\n",
        "```http\n",
        "  https://olinda.bcb.gov.br/olinda/servico/PTAX/versao/v1/odata/CotacaoDolarPeriodo(dataInicial=@dataInicial,dataFinalCotacao=@dataFinalCotacao)?@dataInicial='01-01-2025'&@dataFinalCotacao='01-20-2025'&$top=100&$format=json\n",
        "```\n",
        "\n",
        "> Note que esta URL é utilizada no código abaixo para baixar a série histórica da cotação do dólar.\n"
      ]
    },
    {
      "cell_type": "code",
      "execution_count": null,
      "metadata": {
        "id": "wXwYLnKyY0ys"
      },
      "outputs": [],
      "source": [
        "import requests\n",
        "from datetime import datetime\n",
        "\n",
        "# URL para taxas de câmbio\n",
        "data_inicial = \"01-01-2025\" ## MM-DD-AAAA\n",
        "data_final = \"01-20-2025\"   ## MM-DD-AAAA\n",
        "url = f\"https://olinda.bcb.gov.br/olinda/servico/PTAX/versao/v1/odata/CotacaoDolarPeriodo(dataInicial=@dataInicial,dataFinalCotacao=@dataFinal)?@dataInicial='{data_inicial}'&@dataFinal='{data_final}'&$format=json\"\n",
        "\n",
        "# Fazendo a requisição\n",
        "response = requests.get(url)\n",
        "\n",
        "# Checando o status\n",
        "if response.status_code == 200:\n",
        "\n",
        "    dados = response.json()\n",
        "\n",
        "    import pprint\n",
        "    pprint.pprint(dados)\n",
        "\n",
        "    print(\"\\n\\nPreços de compra:\")\n",
        "    dados_cambio = dados['value']\n",
        "    for dia in dados_cambio:\n",
        "        print(f\"Data: {dia['dataHoraCotacao']}, Valor: {dia['cotacaoCompra']}\")\n",
        "else:\n",
        "    print(\"Erro ao acessar a API do Banco Central\")"
      ]
    },
    {
      "cell_type": "markdown",
      "metadata": {
        "id": "3PLx3JZket_9"
      },
      "source": [
        "Podemos desempacotar as informações para um DataFrame do Pandas.\n",
        "\n",
        "Para isto, bastar selecionar selecionar o elemento 'value' do JSON. Veja o exemplo no código abaixo."
      ]
    },
    {
      "cell_type": "code",
      "execution_count": null,
      "metadata": {
        "id": "Djn37fcxd7HR"
      },
      "outputs": [],
      "source": [
        "# Para tabular as informações podemos utilizar Pandas\n",
        "import pandas as pd\n",
        "\n",
        "df = pd.DataFrame( dados['value'] )\n",
        "print( df )"
      ]
    },
    {
      "cell_type": "code",
      "execution_count": null,
      "metadata": {
        "id": "afeWEgwxlOYy"
      },
      "outputs": [],
      "source": [
        "# Criando o gráfico\n",
        "import matplotlib.pyplot as plt\n",
        "\n",
        "  ## Convertendo a coluna 'dataHoraCotacao' para datetime\n",
        "df['dataHoraCotacao'] = pd.to_datetime(df['dataHoraCotacao'])\n",
        "\n",
        "  ## Remove informações de horário\n",
        "df['dataHoraCotacao'] = df['dataHoraCotacao'].dt.date\n",
        "\n",
        "plt.figure(figsize=(5, 4))\n",
        "plt.plot(df['dataHoraCotacao'], df[\"cotacaoCompra\"])\n",
        "plt.title('Cotação Dólar')\n",
        "plt.grid(True, linestyle='--', alpha=0.6)\n",
        "plt.xticks(rotation=45)  # Rotaciona os rótulos para evitar sobreposição\n",
        "plt.tight_layout()\n",
        "plt.show()"
      ]
    },
    {
      "cell_type": "markdown",
      "metadata": {
        "id": "yZsegu97gjVs"
      },
      "source": [
        "### Exercício 2\n",
        "\n",
        "Crie um código que baixe e apresente informações da série temporal diária da \"Taxa de juros - Selic\" entre 01/01/2010 até 20/01/2025.\n",
        "\n",
        "> Link para a documentação da API: https://dadosabertos.bcb.gov.br/dataset/11-taxa-de-juros---selic/resource/b73edc07-bbac-430c-a2cb-b1639e605fa8\n",
        "\n",
        "\n"
      ]
    },
    {
      "cell_type": "code",
      "execution_count": 39,
      "metadata": {},
      "outputs": [
        {
          "data": {
            "image/png": "[encoded data removed]",
            "text/plain": [
              "<Figure size 500x400 with 1 Axes>"
            ]
          },
          "metadata": {},
          "output_type": "display_data"
        }
      ],
      "source": [
        "import requests\n",
        "import numpy as np\n",
        "from datetime import datetime\n",
        "\n",
        "# URL para taxas de câmbio\n",
        "data_inicial = \"20/01/2015\" ## DD/MM/AAAA\n",
        "data_final = \"20/01/2025\"   ## DD/MM//AAAA\n",
        "url = f\"https://api.bcb.gov.br/dados/serie/bcdata.sgs.11/dados?formato=json&dataInicial={data_inicial}&dataFinal={data_final}\"\n",
        "\n",
        "response = requests.get(url)\n",
        "\n",
        "# Checando o status\n",
        "if response.status_code == 200:\n",
        "\n",
        "    dados = response.json()\n",
        "\n",
        "    import pandas as pd\n",
        "    df = pd.DataFrame( dados )\n",
        "\n",
        "    import matplotlib.pyplot as plt\n",
        "\n",
        "    df['data'] = pd.to_datetime(df['data'], dayfirst=True)\n",
        "    df['data'] = df['data'].dt.date\n",
        "\n",
        "    df[\"valor\"] = df[\"valor\"].transform([float])\n",
        "\n",
        "    plt.figure(figsize=(5, 4))\n",
        "    plt.plot(df['data'], df[\"valor\"])\n",
        "    plt.title('Taxa de juros - Selic')\n",
        "    plt.grid(True, linestyle='--', alpha=0.6)\n",
        "    plt.xticks(rotation=45)\n",
        "    plt.tight_layout()\n",
        "    plt.show()\n",
        "    \n",
        "else:\n",
        "    print(\"Erro ao acessar a API do Banco Central\")\n"
      ]
    }
  ],
  "metadata": {
    "colab": {
      "authorship_tag": "ABX9TyNeXBj8kx8Pkq5cyEUpSiti",
      "include_colab_link": true,
      "provenance": [],
      "toc_visible": true
    },
    "kernelspec": {
      "display_name": ".venv",
      "language": "python",
      "name": "python3"
    },
    "language_info": {
      "codemirror_mode": {
        "name": "ipython",
        "version": 3
      },
      "file_extension": ".py",
      "mimetype": "text/x-python",
      "name": "python",
      "nbconvert_exporter": "python",
      "pygments_lexer": "ipython3",
      "version": "3.12.3"
    }
  },
  "nbformat": 4,
  "nbformat_minor": 0
}
